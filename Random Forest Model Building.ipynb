{
  "nbformat": 4,
  "nbformat_minor": 0,
  "metadata": {
    "colab": {
      "provenance": []
    },
    "kernelspec": {
      "name": "python3",
      "display_name": "Python 3"
    },
    "language_info": {
      "name": "python"
    }
  },
  "cells": [
    {
      "cell_type": "code",
      "source": [
        "import pandas as pd\n",
        "import seaborn as sns\n",
        "from sklearn.model_selection import train_test_split\n",
        "from sklearn.ensemble import RandomForestRegressor"
      ],
      "metadata": {
        "id": "qnU2w2rvtNeg"
      },
      "execution_count": null,
      "outputs": []
    },
    {
      "cell_type": "code",
      "source": [
        "data = pd.read_csv('/content/final_prepared_datset.csv',\n",
        ")\n",
        "data"
      ],
      "metadata": {
        "id": "O3lnL16StjhQ"
      },
      "execution_count": null,
      "outputs": []
    },
    {
      "cell_type": "code",
      "source": [
        "X = data.drop('pIC50', axis=1)\n",
        "X"
      ],
      "metadata": {
        "id": "4-JjS5HYuIcw"
      },
      "execution_count": null,
      "outputs": []
    },
    {
      "cell_type": "code",
      "source": [
        "Y = data.pIC50\n",
        "Y"
      ],
      "metadata": {
        "id": "IDQ20vTCuQ9P"
      },
      "execution_count": null,
      "outputs": []
    },
    {
      "cell_type": "code",
      "source": [
        "X.shape"
      ],
      "metadata": {
        "id": "sq2ttxiiuZdX"
      },
      "execution_count": null,
      "outputs": []
    },
    {
      "cell_type": "code",
      "source": [
        "Y.shape"
      ],
      "metadata": {
        "id": "lu50H015uZ2Q"
      },
      "execution_count": null,
      "outputs": []
    },
    {
      "cell_type": "code",
      "source": [
        "from sklearn.feature_selection import VarianceThreshold\n",
        "\n",
        "def remove_low_variance(input_data, threshold=0.1):\n",
        "    selection = VarianceThreshold(threshold)\n",
        "    selection.fit(input_data)\n",
        "    return input_data[input_data.columns[selection.get_support(indices=True)]]\n",
        "\n",
        "X = remove_low_variance(X, threshold=0.1)\n",
        "X"
      ],
      "metadata": {
        "id": "5DU7pflYg7TS"
      },
      "execution_count": null,
      "outputs": []
    },
    {
      "cell_type": "code",
      "source": [
        "X.shape"
      ],
      "metadata": {
        "id": "GTdl-fMFulEw"
      },
      "execution_count": null,
      "outputs": []
    },
    {
      "cell_type": "code",
      "source": [
        "X.to_csv('descriptor_list.csv', index = False)"
      ],
      "metadata": {
        "id": "HrWljdk1hF6J"
      },
      "execution_count": null,
      "outputs": []
    },
    {
      "cell_type": "code",
      "source": [
        "X_train, X_test, Y_train, Y_test = train_test_split(X, Y, test_size=0.2)"
      ],
      "metadata": {
        "id": "jnazlV6puwEw"
      },
      "execution_count": null,
      "outputs": []
    },
    {
      "cell_type": "code",
      "source": [
        "X_test.shape, Y_test.shape"
      ],
      "metadata": {
        "id": "0lor7hW4u1aw"
      },
      "execution_count": null,
      "outputs": []
    },
    {
      "cell_type": "code",
      "source": [
        "import numpy as np\n",
        "from sklearn.ensemble import RandomForestRegressor\n",
        "from sklearn.impute import SimpleImputer\n",
        "\n",
        "imputer = SimpleImputer(strategy='mean')\n",
        "Y_train_imputed = imputer.fit_transform(Y_train.values.reshape(-1, 1))\n",
        "Y_train_imputed = Y_train_imputed.ravel()\n",
        "\n",
        "Y_test_imputed = imputer.transform(Y_test.values.reshape(-1, 1))\n",
        "Y_test_imputed = Y_test_imputed.ravel()\n",
        "\n",
        "np.random.seed(100)\n",
        "model = RandomForestRegressor(n_estimators=100)\n",
        "\n",
        "model.fit(X_train, Y_train_imputed)\n",
        "\n",
        "r2 = model.score(X_test, Y_test_imputed)\n",
        "print(r2)"
      ],
      "metadata": {
        "id": "_fyxsUophYWD"
      },
      "execution_count": null,
      "outputs": []
    },
    {
      "cell_type": "code",
      "source": [
        "Y_pred = model.predict(X_test)"
      ],
      "metadata": {
        "id": "ldeYWFhiu-go"
      },
      "execution_count": null,
      "outputs": []
    },
    {
      "cell_type": "code",
      "source": [
        "from sklearn.model_selection import GridSearchCV\n",
        "from sklearn.ensemble import RandomForestRegressor\n",
        "\n",
        "param_grid = {\n",
        "    'n_estimators': [50, 100, 200],\n",
        "    'max_depth': [None, 10, 20],\n",
        "    'min_samples_split': [2, 5, 10],\n",
        "    'min_samples_leaf': [1, 2, 4],\n",
        "    'max_features': ['auto', 'sqrt', 'log2']\n",
        "}\n",
        "\n",
        "rf_model = RandomForestRegressor(random_state=100)\n",
        "grid_search = GridSearchCV(estimator=rf_model, param_grid=param_grid, cv=5, scoring='r2', verbose=1)\n",
        "grid_search.fit(X_train, Y_train_imputed)\n",
        "best_params = grid_search.best_params_\n",
        "best_score = grid_search.best_score_\n",
        "\n",
        "best_rf_model = RandomForestRegressor(**best_params, random_state=100)\n",
        "\n",
        "best_rf_model.fit(X_train, Y_train_imputed)\n",
        "\n",
        "r2 = best_rf_model.score(X_test, Y_test_imputed)\n",
        "print(\"Best R2 score:\", r2)\n",
        "print(\"Best parameters:\", best_params)"
      ],
      "metadata": {
        "id": "YzcM4ScqmShr"
      },
      "execution_count": null,
      "outputs": []
    },
    {
      "cell_type": "code",
      "source": [
        "from sklearn.model_selection import GridSearchCV\n",
        "from sklearn.ensemble import RandomForestRegressor\n",
        "from sklearn.metrics import r2_score\n",
        "import numpy as np\n",
        "\n",
        "param_grid = {\n",
        "    'n_estimators': [200, 300, 400],\n",
        "    'max_depth': [None, 15, 20, 25],\n",
        "    'min_samples_split': [2, 5, 10],\n",
        "    'min_samples_leaf': [1, 2, 4],\n",
        "    'max_features': ['sqrt', 'log2']\n",
        "}\n",
        "\n",
        "rf_model = RandomForestRegressor(random_state=100)\n",
        "\n",
        "Y_train_imputed = np.nan_to_num(Y_train, nan=np.nanmean(Y_train))\n",
        "\n",
        "grid_search = GridSearchCV(estimator=rf_model, param_grid=param_grid, cv=5, scoring='r2', verbose=1)\n",
        "grid_search.fit(X_train, Y_train_imputed)\n",
        "\n",
        "best_params = grid_search.best_params_\n",
        "best_score = grid_search.best_score_\n",
        "\n",
        "best_rf_model = RandomForestRegressor(**best_params, random_state=100)\n",
        "\n",
        "best_rf_model.fit(X_train, Y_train_imputed)\n",
        "\n",
        "r2 = best_rf_model.score(X_test, Y_test_imputed)\n",
        "print(\"Best R2 score:\", r2)\n",
        "print(\"Best parameters:\", best_params)"
      ],
      "metadata": {
        "id": "u31dAYJ4rO1H"
      },
      "execution_count": null,
      "outputs": []
    },
    {
      "cell_type": "code",
      "source": [
        "Y_pred = model.predict(X_test)"
      ],
      "metadata": {
        "id": "UE8vFtM_jm3o"
      },
      "execution_count": null,
      "outputs": []
    },
    {
      "cell_type": "code",
      "source": [
        "from sklearn.ensemble import RandomForestRegressor\n",
        "\n",
        "best_params = {\n",
        "    'n_estimators': 200,\n",
        "    'max_depth': 20,\n",
        "    'min_samples_split': 2,\n",
        "    'min_samples_leaf': 1,\n",
        "    'max_features': 'sqrt',\n",
        "    'random_state': 100\n",
        "}\n",
        "\n",
        "final_rf_model = RandomForestRegressor(**best_params)\n",
        "\n",
        "Y_train_imputed = np.nan_to_num(Y_train, nan=np.nanmean(Y_train))\n",
        "\n",
        "final_rf_model.fit(X_train, Y_train_imputed)\n",
        "\n",
        "Y_test_imputed = np.nan_to_num(Y_test, nan=np.nanmean(Y_test))\n",
        "\n",
        "r2 = final_rf_model.score(X_test, Y_test_imputed)\n",
        "print(\"R2 score on testing data:\", r2)"
      ],
      "metadata": {
        "id": "dkwv0Balz_yX"
      },
      "execution_count": null,
      "outputs": []
    },
    {
      "cell_type": "code",
      "source": [
        "import seaborn as sns\n",
        "import matplotlib.pyplot as plt\n",
        "\n",
        "sns.set(color_codes=True)\n",
        "sns.set_style(\"white\")\n",
        "\n",
        "plt.figure(figsize=(5, 5))\n",
        "ax = sns.regplot(x=Y_test, y=Y_pred, scatter_kws={'alpha':0.8})\n",
        "ax.set_xlabel('Experimental pIC50', fontsize='large', fontweight='bold')\n",
        "ax.set_ylabel('Predicted pIC50', fontsize='large', fontweight='bold')\n",
        "ax.set_xlim(3, 12)\n",
        "ax.set_ylim(3, 12)\n",
        "\n",
        "plt.savefig('Regression_Model.png', dpi=600, bbox_inches='tight')\n",
        "\n",
        "plt.show()"
      ],
      "metadata": {
        "id": "7d-aNhUtvKdg"
      },
      "execution_count": null,
      "outputs": []
    },
    {
      "cell_type": "code",
      "source": [
        "import pickle\n",
        "\n",
        "with open('random_forest_model.pkl', 'wb') as f:\n",
        "    pickle.dump(final_rf_model, f)"
      ],
      "metadata": {
        "id": "LaUugBGHjuv6"
      },
      "execution_count": null,
      "outputs": []
    }
  ]
}