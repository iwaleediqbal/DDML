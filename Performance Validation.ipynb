{
  "nbformat": 4,
  "nbformat_minor": 0,
  "metadata": {
    "colab": {
      "provenance": []
    },
    "kernelspec": {
      "name": "python3",
      "display_name": "Python 3"
    },
    "language_info": {
      "name": "python"
    }
  },
  "cells": [
    {
      "cell_type": "code",
      "source": [
        "! pip install lazypredict"
      ],
      "metadata": {
        "id": "V-ij30mn2DGh"
      },
      "execution_count": null,
      "outputs": []
    },
    {
      "cell_type": "code",
      "source": [
        "import pandas as pd\n",
        "import seaborn as sns\n",
        "from sklearn.model_selection import train_test_split\n",
        "import lazypredict\n",
        "from lazypredict.Supervised import LazyRegressor"
      ],
      "metadata": {
        "id": "KXpqteqm2FMh"
      },
      "execution_count": null,
      "outputs": []
    },
    {
      "cell_type": "code",
      "source": [
        "from pathlib import Path\n",
        "HERE = Path(_dh[-1])\n",
        "DATA = HERE / \"data\""
      ],
      "metadata": {
        "id": "wG6KDuqNzkcL"
      },
      "execution_count": null,
      "outputs": []
    },
    {
      "cell_type": "code",
      "source": [
        "data = pd.read_csv('/content/final_prepared_datset.csv',\n",
        "    index_col=0,\n",
        ")\n",
        "data"
      ],
      "metadata": {
        "id": "Kut0FwSF3LNy"
      },
      "execution_count": null,
      "outputs": []
    },
    {
      "cell_type": "code",
      "source": [
        "X = data.drop('pIC50', axis=1)\n",
        "Y = data.pIC50\n",
        "X"
      ],
      "metadata": {
        "id": "Wnk7TSC73kzp"
      },
      "execution_count": null,
      "outputs": []
    },
    {
      "cell_type": "code",
      "source": [
        "X.shape"
      ],
      "metadata": {
        "id": "LgENIVVw3q1R"
      },
      "execution_count": null,
      "outputs": []
    },
    {
      "cell_type": "code",
      "source": [
        "from sklearn.feature_selection import VarianceThreshold\n",
        "selection = VarianceThreshold(threshold=(.8 * (1 - .8)))\n",
        "X = selection.fit_transform(X)\n",
        "X.shape"
      ],
      "metadata": {
        "id": "0QUCxkKy3tQq"
      },
      "execution_count": null,
      "outputs": []
    },
    {
      "cell_type": "code",
      "source": [
        "X_train, X_test, Y_train, Y_test = train_test_split(X, Y, test_size=0.2)"
      ],
      "metadata": {
        "id": "PsZwyOP_3u2C"
      },
      "execution_count": null,
      "outputs": []
    },
    {
      "cell_type": "code",
      "source": [
        "from sklearn.model_selection import train_test_split\n",
        "from sklearn.linear_model import LinearRegression\n",
        "import pandas as pd\n",
        "\n",
        "X_train, X_test, Y_train, Y_test = train_test_split(X, Y, test_size=0.2, random_state=42)\n",
        "Y_train = Y_train.fillna(Y_train.mean())\n",
        "clf = LazyRegressor(verbose=0, ignore_warnings=True, custom_metric=None)\n",
        "models_train, predictions_train = clf.fit(X_train, X_train, Y_train, Y_train)\n",
        "models_test, predictions_test = clf.fit(X_train, X_test, Y_train, Y_test)"
      ],
      "metadata": {
        "id": "dXalM-xA5xBK"
      },
      "execution_count": null,
      "outputs": []
    },
    {
      "cell_type": "code",
      "source": [
        "\n",
        "predictions_train"
      ],
      "metadata": {
        "id": "JA9l2ZA54Qj6"
      },
      "execution_count": null,
      "outputs": []
    },
    {
      "cell_type": "code",
      "source": [
        "predictions_test"
      ],
      "metadata": {
        "id": "YzI2CtQQ4YNh"
      },
      "execution_count": null,
      "outputs": []
    },
    {
      "cell_type": "code",
      "source": [
        "import matplotlib.pyplot as plt\n",
        "import seaborn as sns\n",
        "\n",
        "\n",
        "palette = sns.color_palette(\"hsv\", len(predictions_train))\n",
        "plt.figure(figsize=(6, 11))\n",
        "sns.set_theme(style=\"whitegrid\")\n",
        "predictions_train_sorted = predictions_train.sort_values(by=\"R-Squared\", ascending=False)\n",
        "ax = sns.barplot(y=predictions_train_sorted.index, x=\"R-Squared\", data=predictions_train_sorted, palette=palette)\n",
        "ax.set(xlim=(0, 1))\n",
        "plt.title('R-squared values for predictions', fontsize=16)\n",
        "plt.xlabel('R-Squared', fontsize=14)\n",
        "plt.ylabel('Predictions', fontsize=14)\n",
        "plt.xticks(rotation=45)\n",
        "plt.savefig('R_Squared.png', dpi=600, bbox_inches='tight')\n",
        "plt.show()"
      ],
      "metadata": {
        "id": "KCHJVKs_4eSy"
      },
      "execution_count": null,
      "outputs": []
    },
    {
      "cell_type": "code",
      "source": [
        "import matplotlib.pyplot as plt\n",
        "import seaborn as sns\n",
        "\n",
        "palette = sns.color_palette(\"hsv\", len(predictions_train))\n",
        "\n",
        "plt.figure(figsize=(6, 11))\n",
        "sns.set_theme(style=\"whitegrid\")\n",
        "predictions_train_sorted = predictions_train.sort_values(by=\"RMSE\", ascending=False)\n",
        "ax = sns.barplot(y=predictions_train_sorted.index, x=\"RMSE\", data=predictions_train_sorted, palette=palette)\n",
        "ax.set(xlim=(0, 10))\n",
        "plt.title('RMSE values for predictions', fontsize=16)\n",
        "plt.xlabel('RMSE', fontsize=14)\n",
        "plt.ylabel('Predictions', fontsize=14)\n",
        "plt.xticks(rotation=45)\n",
        "plt.savefig('RMSE.png', dpi=600, bbox_inches='tight')\n",
        "plt.show()"
      ],
      "metadata": {
        "id": "6-vxDhNi4jHZ"
      },
      "execution_count": null,
      "outputs": []
    },
    {
      "cell_type": "code",
      "source": [
        "import matplotlib.pyplot as plt\n",
        "import seaborn as sns\n",
        "\n",
        "palette = sns.color_palette(\"hsv\", len(predictions_train))\n",
        "\n",
        "plt.figure(figsize=(6, 11))\n",
        "sns.set_theme(style=\"whitegrid\")\n",
        "predictions_train_sorted = predictions_train.sort_values(by=\"Time Taken\", ascending=False)\n",
        "ax = sns.barplot(x=\"Time Taken\", y=predictions_train_sorted.index, data=predictions_train_sorted, palette=palette)\n",
        "ax.set(xlim=(0, 10))\n",
        "plt.title('Time Taken values for predictions', fontsize=16)\n",
        "plt.xlabel('Time Taken', fontsize=14)\n",
        "plt.ylabel('Predictions', fontsize=14)\n",
        "plt.xticks(rotation=45)\n",
        "plt.savefig('Time_Taken.png', dpi=600, bbox_inches='tight')\n",
        "plt.show()"
      ],
      "metadata": {
        "id": "CI_G4qBG4lDZ"
      },
      "execution_count": null,
      "outputs": []
    },
    {
      "cell_type": "code",
      "source": [
        "from google.colab import files\n",
        "files.download('RMSE.png')"
      ],
      "metadata": {
        "id": "oH0MxZRc7KUT"
      },
      "execution_count": null,
      "outputs": []
    }
  ]
}